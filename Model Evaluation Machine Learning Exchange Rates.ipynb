{
 "cells": [
  {
   "cell_type": "code",
   "execution_count": 63,
   "id": "1d667aca-c935-49ce-bd86-b575b55bdd2f",
   "metadata": {},
   "outputs": [],
   "source": [
    "import pandas as pd\n",
    "import numpy as np\n",
    "from pathlib import Path\n",
    "from sklearn.ensemble import RandomForestRegressor\n",
    "from sklearn.model_selection import train_test_split\n",
    "from sklearn.metrics import r2_score\n",
    "from sklearn.ensemble import GradientBoostingRegressor\n",
    "from sklearn.metrics import mean_squared_error, r2_score\n",
    "from sklearn.neural_network import MLPRegressor\n",
    "from sklearn.metrics import mean_squared_error, r2_score\n",
    "import matplotlib.pyplot as plt\n",
    "from sklearn.svm import SVR\n",
    "from sklearn.metrics import mean_squared_error, r2_score\n",
    "from sklearn.neighbors import KNeighborsRegressor\n",
    "from sklearn.preprocessing import StandardScaler\n",
    "from sklearn.metrics import mean_absolute_error, mean_squared_error, r2_score"
   ]
  },
  {
   "cell_type": "code",
   "execution_count": 14,
   "id": "00b760ca-ab7d-4006-aa68-9a780293ef36",
   "metadata": {},
   "outputs": [],
   "source": [
    "data = pd.read_csv(Path(\"C:/Users/ritvi/Downloads/Merged Monthly Data.csv\"), index_col=\"Period\", infer_datetime_format=True, parse_dates=True)"
   ]
  },
  {
   "cell_type": "code",
   "execution_count": 11,
   "id": "ceaca410-2b47-4a85-bf33-7e523335814b",
   "metadata": {},
   "outputs": [
    {
     "data": {
      "text/html": [
       "<div>\n",
       "<style scoped>\n",
       "    .dataframe tbody tr th:only-of-type {\n",
       "        vertical-align: middle;\n",
       "    }\n",
       "\n",
       "    .dataframe tbody tr th {\n",
       "        vertical-align: top;\n",
       "    }\n",
       "\n",
       "    .dataframe thead th {\n",
       "        text-align: right;\n",
       "    }\n",
       "</style>\n",
       "<table border=\"1\" class=\"dataframe\">\n",
       "  <thead>\n",
       "    <tr style=\"text-align: right;\">\n",
       "      <th></th>\n",
       "      <th>Unnamed: 0</th>\n",
       "      <th>Canadian Dollar ($CADUSD) - Rate Value</th>\n",
       "      <th>CAN CPI</th>\n",
       "      <th>US CPI</th>\n",
       "      <th>CAN Foreign Reserves</th>\n",
       "      <th>US Foreign Reserves</th>\n",
       "      <th>Foreign Reserves Difference</th>\n",
       "      <th>Foreign Reserves Difference Percentage</th>\n",
       "      <th>CPI Difference</th>\n",
       "      <th>CPI Difference Percentage</th>\n",
       "    </tr>\n",
       "    <tr>\n",
       "      <th>Period</th>\n",
       "      <th></th>\n",
       "      <th></th>\n",
       "      <th></th>\n",
       "      <th></th>\n",
       "      <th></th>\n",
       "      <th></th>\n",
       "      <th></th>\n",
       "      <th></th>\n",
       "      <th></th>\n",
       "      <th></th>\n",
       "    </tr>\n",
       "  </thead>\n",
       "  <tbody>\n",
       "    <tr>\n",
       "      <th>1971-01-01</th>\n",
       "      <td>0</td>\n",
       "      <td>1.011429</td>\n",
       "      <td>0.99</td>\n",
       "      <td>5.29</td>\n",
       "      <td>3.04</td>\n",
       "      <td>0.49</td>\n",
       "      <td>2.55</td>\n",
       "      <td>-0.838816</td>\n",
       "      <td>-4.30</td>\n",
       "      <td>4.343434</td>\n",
       "    </tr>\n",
       "    <tr>\n",
       "      <th>1971-02-01</th>\n",
       "      <td>1</td>\n",
       "      <td>1.009286</td>\n",
       "      <td>1.49</td>\n",
       "      <td>5.00</td>\n",
       "      <td>3.09</td>\n",
       "      <td>0.33</td>\n",
       "      <td>2.76</td>\n",
       "      <td>-0.893204</td>\n",
       "      <td>-3.51</td>\n",
       "      <td>2.355705</td>\n",
       "    </tr>\n",
       "    <tr>\n",
       "      <th>1971-03-01</th>\n",
       "      <td>2</td>\n",
       "      <td>1.007742</td>\n",
       "      <td>1.49</td>\n",
       "      <td>4.71</td>\n",
       "      <td>3.17</td>\n",
       "      <td>0.26</td>\n",
       "      <td>2.91</td>\n",
       "      <td>-0.917981</td>\n",
       "      <td>-3.22</td>\n",
       "      <td>2.161074</td>\n",
       "    </tr>\n",
       "    <tr>\n",
       "      <th>1971-04-01</th>\n",
       "      <td>3</td>\n",
       "      <td>1.010000</td>\n",
       "      <td>1.97</td>\n",
       "      <td>4.16</td>\n",
       "      <td>3.18</td>\n",
       "      <td>0.26</td>\n",
       "      <td>2.92</td>\n",
       "      <td>-0.918239</td>\n",
       "      <td>-2.19</td>\n",
       "      <td>1.111675</td>\n",
       "    </tr>\n",
       "    <tr>\n",
       "      <th>1971-05-01</th>\n",
       "      <td>4</td>\n",
       "      <td>1.010000</td>\n",
       "      <td>1.97</td>\n",
       "      <td>4.40</td>\n",
       "      <td>3.22</td>\n",
       "      <td>0.32</td>\n",
       "      <td>2.90</td>\n",
       "      <td>-0.900621</td>\n",
       "      <td>-2.43</td>\n",
       "      <td>1.233503</td>\n",
       "    </tr>\n",
       "  </tbody>\n",
       "</table>\n",
       "</div>"
      ],
      "text/plain": [
       "            Unnamed: 0  Canadian Dollar ($CADUSD) - Rate Value  CAN CPI  \\\n",
       "Period                                                                    \n",
       "1971-01-01           0                                1.011429     0.99   \n",
       "1971-02-01           1                                1.009286     1.49   \n",
       "1971-03-01           2                                1.007742     1.49   \n",
       "1971-04-01           3                                1.010000     1.97   \n",
       "1971-05-01           4                                1.010000     1.97   \n",
       "\n",
       "            US CPI  CAN Foreign Reserves  US Foreign Reserves  \\\n",
       "Period                                                          \n",
       "1971-01-01    5.29                  3.04                 0.49   \n",
       "1971-02-01    5.00                  3.09                 0.33   \n",
       "1971-03-01    4.71                  3.17                 0.26   \n",
       "1971-04-01    4.16                  3.18                 0.26   \n",
       "1971-05-01    4.40                  3.22                 0.32   \n",
       "\n",
       "            Foreign Reserves Difference  \\\n",
       "Period                                    \n",
       "1971-01-01                         2.55   \n",
       "1971-02-01                         2.76   \n",
       "1971-03-01                         2.91   \n",
       "1971-04-01                         2.92   \n",
       "1971-05-01                         2.90   \n",
       "\n",
       "            Foreign Reserves Difference Percentage  CPI Difference  \\\n",
       "Period                                                               \n",
       "1971-01-01                               -0.838816           -4.30   \n",
       "1971-02-01                               -0.893204           -3.51   \n",
       "1971-03-01                               -0.917981           -3.22   \n",
       "1971-04-01                               -0.918239           -2.19   \n",
       "1971-05-01                               -0.900621           -2.43   \n",
       "\n",
       "            CPI Difference Percentage  \n",
       "Period                                 \n",
       "1971-01-01                   4.343434  \n",
       "1971-02-01                   2.355705  \n",
       "1971-03-01                   2.161074  \n",
       "1971-04-01                   1.111675  \n",
       "1971-05-01                   1.233503  "
      ]
     },
     "execution_count": 11,
     "metadata": {},
     "output_type": "execute_result"
    }
   ],
   "source": [
    "data.head()"
   ]
  },
  {
   "cell_type": "code",
   "execution_count": 17,
   "id": "0297bc9c-ee4f-4e0e-895f-7aafa81bd189",
   "metadata": {},
   "outputs": [],
   "source": [
    "X = data[['CAN CPI', 'US CPI', 'Foreign Reserves Difference','CPI Difference']]\n",
    "y = data['Canadian Dollar ($CADUSD) - Rate Value']"
   ]
  },
  {
   "cell_type": "code",
   "execution_count": 18,
   "id": "2d76fb06-c01b-4413-af7a-63e74be7a39b",
   "metadata": {},
   "outputs": [],
   "source": [
    "# split into training and testing sets\n",
    "X_train, X_test, y_train, y_test = train_test_split(X, y, test_size=0.3, random_state=42)"
   ]
  },
  {
   "cell_type": "code",
   "execution_count": 20,
   "id": "3b07e4fc-0ed5-42a0-b725-16b97ed0b69d",
   "metadata": {},
   "outputs": [
    {
     "data": {
      "text/plain": [
       "RandomForestRegressor(random_state=980)"
      ]
     },
     "execution_count": 20,
     "metadata": {},
     "output_type": "execute_result"
    }
   ],
   "source": [
    "# train random forest model\n",
    "rf = RandomForestRegressor(n_estimators=100, random_state=980)\n",
    "rf.fit(X_train, y_train)"
   ]
  },
  {
   "cell_type": "code",
   "execution_count": 21,
   "id": "e53bc51a-4e2b-4d6c-8189-9e4896081e00",
   "metadata": {},
   "outputs": [],
   "source": [
    "# make predictions\n",
    "y_pred = rf.predict(X_test)"
   ]
  },
  {
   "cell_type": "code",
   "execution_count": 22,
   "id": "5e085bc8-00a4-4784-947d-55e215629d6e",
   "metadata": {},
   "outputs": [],
   "source": [
    "# calculate R-squared\n",
    "r2 = r2_score(y_test, y_pred)"
   ]
  },
  {
   "cell_type": "code",
   "execution_count": 24,
   "id": "09bb3a1c-8bd3-4302-b4d2-b1093ca2fe7e",
   "metadata": {},
   "outputs": [],
   "source": [
    "# determine recommendation based on predicted value\n",
    "last_price = data.iloc[-1]['Canadian Dollar ($CADUSD) - Rate Value']\n",
    "predicted_price = rf.predict(X.iloc[[-1]][['CAN CPI', 'US CPI', 'Foreign Reserves Difference','CPI Difference']])[0]\n",
    "\n",
    "if predicted_price > last_price:\n",
    "    recommendation = 'BUY'\n",
    "else:\n",
    "    recommendation = 'SELL'"
   ]
  },
  {
   "cell_type": "code",
   "execution_count": 25,
   "id": "dfb6e457-6bdb-433d-ba64-7a227ee94ffe",
   "metadata": {},
   "outputs": [
    {
     "name": "stdout",
     "output_type": "stream",
     "text": [
      "Recommendation: SELL\n",
      "R-squared: 0.7450959533835854\n"
     ]
    }
   ],
   "source": [
    "# print recommendation and R-squared\n",
    "print('Recommendation:', recommendation)\n",
    "print('R-squared:', r2)"
   ]
  },
  {
   "cell_type": "markdown",
   "id": "e345325e-4e9d-4849-bb14-3232c9c694be",
   "metadata": {},
   "source": [
    "<b> Utilizing Gradient Boosting </b>"
   ]
  },
  {
   "cell_type": "code",
   "execution_count": 36,
   "id": "b48ba818-0b1e-49c2-abea-5fb99d8f28e7",
   "metadata": {},
   "outputs": [],
   "source": [
    "# Create a Gradient Boosting Regressor model\n",
    "gbr = GradientBoostingRegressor(n_estimators=100, learning_rate=0.1, max_depth=3, random_state=980)"
   ]
  },
  {
   "cell_type": "code",
   "execution_count": 37,
   "id": "3dbc6274-2d4a-4f0a-9af7-c46d4b0cdb8a",
   "metadata": {},
   "outputs": [
    {
     "data": {
      "text/plain": [
       "GradientBoostingRegressor(random_state=980)"
      ]
     },
     "execution_count": 37,
     "metadata": {},
     "output_type": "execute_result"
    }
   ],
   "source": [
    "# Fit the model to the training data\n",
    "gbr.fit(X_train, y_train)"
   ]
  },
  {
   "cell_type": "code",
   "execution_count": 38,
   "id": "f1ab01f3-9577-4666-92e5-f3d4b9eac54c",
   "metadata": {},
   "outputs": [],
   "source": [
    "# Predict the exchange rate for the testing data\n",
    "y_pred = gbr.predict(X_test)"
   ]
  },
  {
   "cell_type": "code",
   "execution_count": 39,
   "id": "701ebd88-3974-4a18-a638-43622259d767",
   "metadata": {},
   "outputs": [
    {
     "name": "stdout",
     "output_type": "stream",
     "text": [
      "Mean Squared Error:  0.0070645942129340345\n",
      "R^2 Score:  0.715685461191457\n"
     ]
    }
   ],
   "source": [
    "# Evaluate the performance of the model using Mean Squared Error and R^2 score\n",
    "mse = mean_squared_error(y_test, y_pred)\n",
    "r2 = r2_score(y_test, y_pred)\n",
    "print(\"Mean Squared Error: \", mse)\n",
    "print(\"R^2 Score: \", r2)"
   ]
  },
  {
   "cell_type": "code",
   "execution_count": 40,
   "id": "f1c67b6e-701f-4f6b-8b73-641c521323da",
   "metadata": {},
   "outputs": [
    {
     "name": "stdout",
     "output_type": "stream",
     "text": [
      "Predictions for next 3 months:  [1.33128309 1.3311166  1.32626804]\n"
     ]
    }
   ],
   "source": [
    "# Predict the exchange rate for the next 3 months\n",
    "next_3_months = X[-3:]\n",
    "future_predictions = gbr.predict(next_3_months)\n",
    "print(\"Predictions for next 3 months: \", future_predictions)"
   ]
  },
  {
   "cell_type": "markdown",
   "id": "35981c2f-a316-41d9-92d4-88640c6672b8",
   "metadata": {},
   "source": [
    "<b> Utilizing Neural Networks </b>"
   ]
  },
  {
   "cell_type": "code",
   "execution_count": 41,
   "id": "d87e9df0-86c2-4859-a2f7-38729ee2c443",
   "metadata": {},
   "outputs": [],
   "source": [
    "# split data into training and testing sets\n",
    "train_size = int(len(X) * 0.8)\n",
    "train_features, test_features = X[:train_size], X[train_size:]\n",
    "train_target, test_target = y[:train_size], y[train_size:]"
   ]
  },
  {
   "cell_type": "code",
   "execution_count": 42,
   "id": "58baec01-65cf-4ab3-bad2-b2815fb607c8",
   "metadata": {},
   "outputs": [],
   "source": [
    "# create neural network model\n",
    "model = MLPRegressor(hidden_layer_sizes=(100,50), max_iter=500, solver='adam', activation='relu', random_state=980)"
   ]
  },
  {
   "cell_type": "code",
   "execution_count": 43,
   "id": "83df23f9-ec08-451a-b8ad-c8ab6f980226",
   "metadata": {},
   "outputs": [
    {
     "data": {
      "text/plain": [
       "MLPRegressor(hidden_layer_sizes=(100, 50), max_iter=500, random_state=980)"
      ]
     },
     "execution_count": 43,
     "metadata": {},
     "output_type": "execute_result"
    }
   ],
   "source": [
    "# train the model\n",
    "model.fit(train_features, train_target)"
   ]
  },
  {
   "cell_type": "code",
   "execution_count": 44,
   "id": "ff0ceb4f-0cbf-4e98-844e-622468243783",
   "metadata": {},
   "outputs": [],
   "source": [
    "# make predictions\n",
    "train_predictions = model.predict(train_features)\n",
    "test_predictions = model.predict(test_features)"
   ]
  },
  {
   "cell_type": "code",
   "execution_count": 45,
   "id": "f38255b7-dd56-4328-8bf3-c71f213f8c36",
   "metadata": {},
   "outputs": [],
   "source": [
    "# calculate performance metrics\n",
    "train_rmse = np.sqrt(mean_squared_error(train_target, train_predictions))\n",
    "train_r2 = r2_score(train_target, train_predictions)\n",
    "test_rmse = np.sqrt(mean_squared_error(test_target, test_predictions))\n",
    "test_r2 = r2_score(test_target, test_predictions)"
   ]
  },
  {
   "cell_type": "code",
   "execution_count": 46,
   "id": "0bf0c073-e070-476a-922e-550ebf4fb8eb",
   "metadata": {},
   "outputs": [
    {
     "name": "stdout",
     "output_type": "stream",
     "text": [
      "Train RMSE:  0.1176913882299294\n",
      "Train R2 Score:  0.5230632265577636\n",
      "Test RMSE:  1.7119031470234805\n",
      "Test R2 Score:  -224.42244967528546\n"
     ]
    }
   ],
   "source": [
    "# print performance metrics\n",
    "print(\"Train RMSE: \", train_rmse)\n",
    "print(\"Train R2 Score: \", train_r2)\n",
    "print(\"Test RMSE: \", test_rmse)\n",
    "print(\"Test R2 Score: \", test_r2)"
   ]
  },
  {
   "cell_type": "code",
   "execution_count": 47,
   "id": "56bd2189-8fb8-4b58-9550-7363b2933ce5",
   "metadata": {},
   "outputs": [
    {
     "data": {
      "image/png": "[encoded data removed]",
      "text/plain": [
       "<Figure size 640x480 with 1 Axes>"
      ]
     },
     "metadata": {},
     "output_type": "display_data"
    }
   ],
   "source": [
    "# plot actual vs predicted values for Neural Networks\n",
    "plt.plot(test_target.index, test_target.values, label=\"Actual\")\n",
    "plt.plot(test_target.index, test_predictions, label=\"Predicted\")\n",
    "plt.legend()\n",
    "plt.show()"
   ]
  },
  {
   "cell_type": "markdown",
   "id": "fbf611a5-81b0-4bb9-8446-0d7a2a8650bc",
   "metadata": {},
   "source": [
    "<b> Support Vector Machines </b>"
   ]
  },
  {
   "cell_type": "code",
   "execution_count": 50,
   "id": "c23478aa-55f7-4159-bbef-53ebd8da1fea",
   "metadata": {},
   "outputs": [
    {
     "data": {
      "text/plain": [
       "SVR(kernel='linear')"
      ]
     },
     "execution_count": 50,
     "metadata": {},
     "output_type": "execute_result"
    }
   ],
   "source": [
    "# Train the SVM model\n",
    "svm = SVR(kernel='linear', C=1.0, epsilon=0.1)\n",
    "svm.fit(X_train, y_train)"
   ]
  },
  {
   "cell_type": "code",
   "execution_count": 51,
   "id": "cae02e3b-860a-41e5-80ae-142436a16599",
   "metadata": {},
   "outputs": [],
   "source": [
    "# Make predictions on the test data\n",
    "y_pred = svm.predict(X_test)"
   ]
  },
  {
   "cell_type": "code",
   "execution_count": 52,
   "id": "bc00a97a-1f6b-45bf-96fe-350fac5e6e85",
   "metadata": {},
   "outputs": [
    {
     "name": "stdout",
     "output_type": "stream",
     "text": [
      "MSE:  0.020642543831740013\n",
      "RMSE:  0.1436751329623189\n",
      "R^2:  0.16924098505031904\n"
     ]
    }
   ],
   "source": [
    "# Evaluate the model\n",
    "mse = mean_squared_error(y_test, y_pred)\n",
    "rmse = mse**0.5\n",
    "r2 = r2_score(y_test, y_pred)\n",
    "\n",
    "print('MSE: ', mse)\n",
    "print('RMSE: ', rmse)\n",
    "print('R^2: ', r2)"
   ]
  },
  {
   "cell_type": "markdown",
   "id": "ba56fa48-fd33-4781-9473-0424dcf22e26",
   "metadata": {},
   "source": [
    "<b> K-Nearest Neighbours </b>"
   ]
  },
  {
   "cell_type": "code",
   "execution_count": 54,
   "id": "a9068de6-72ee-4ca9-8090-440c90310d1c",
   "metadata": {},
   "outputs": [],
   "source": [
    "# Split the data into training and testing sets\n",
    "X_train, X_test, y_train, y_test = train_test_split(X, y, test_size=0.2, random_state=980)"
   ]
  },
  {
   "cell_type": "code",
   "execution_count": 57,
   "id": "6e3ec095-ec16-4d11-bbc3-dfc33728d2d9",
   "metadata": {},
   "outputs": [],
   "source": [
    "# Scale the features\n",
    "scaler = StandardScaler()\n",
    "X_train = scaler.fit_transform(X_train)\n",
    "X_test = scaler.transform(X_test)"
   ]
  },
  {
   "cell_type": "code",
   "execution_count": 58,
   "id": "482267bf-6df8-4a75-8c7d-44c2664257b9",
   "metadata": {},
   "outputs": [
    {
     "data": {
      "text/plain": [
       "KNeighborsRegressor()"
      ]
     },
     "execution_count": 58,
     "metadata": {},
     "output_type": "execute_result"
    }
   ],
   "source": [
    "# Train the KNN model\n",
    "knn = KNeighborsRegressor(n_neighbors=5)\n",
    "knn.fit(X_train, y_train)"
   ]
  },
  {
   "cell_type": "code",
   "execution_count": 59,
   "id": "b5fed7de-d53a-4af7-8925-273fe0fe7ce2",
   "metadata": {},
   "outputs": [],
   "source": [
    "# Make predictions on the test set\n",
    "y_pred = knn.predict(X_test)"
   ]
  },
  {
   "cell_type": "code",
   "execution_count": 60,
   "id": "f250a088-1264-4b41-a336-cb02b897b3f5",
   "metadata": {},
   "outputs": [
    {
     "name": "stdout",
     "output_type": "stream",
     "text": [
      "MSE: 0.00694122886527075\n",
      "R^2: 0.6966678452276438\n"
     ]
    }
   ],
   "source": [
    "# Evaluate the model\n",
    "mse = mean_squared_error(y_test, y_pred)\n",
    "r2 = r2_score(y_test, y_pred)\n",
    "\n",
    "print('MSE:', mse)\n",
    "print('R^2:', r2)"
   ]
  },
  {
   "cell_type": "markdown",
   "id": "5561e271-caa7-44f7-ac27-98bef6718a64",
   "metadata": {},
   "source": [
    "<b> Working all the models together to evaluate the best model </b>"
   ]
  },
  {
   "cell_type": "code",
   "execution_count": 61,
   "id": "d4945506-f769-4a0a-ae93-39be2a77de55",
   "metadata": {},
   "outputs": [],
   "source": [
    "# Initialize models\n",
    "rf_model = RandomForestRegressor(random_state=980)\n",
    "gb_model = GradientBoostingRegressor(random_state=980)\n",
    "nn_model = MLPRegressor(random_state=980)\n",
    "svm_model = SVR()\n",
    "knn_model = KNeighborsRegressor()\n",
    "\n",
    "models = [('Random Forest', rf_model), ('Gradient Boosting', gb_model), \n",
    "          ('Neural Networks', nn_model), ('Support Vector Machines', svm_model), \n",
    "          ('K-Nearest Neighbors', knn_model)]"
   ]
  },
  {
   "cell_type": "code",
   "execution_count": 64,
   "id": "32f61481-2c14-48f5-81e0-1873782390e1",
   "metadata": {},
   "outputs": [
    {
     "name": "stdout",
     "output_type": "stream",
     "text": [
      "Random Forest\n",
      "MAE: 0.046286157376979754\n",
      "MSE: 0.00512069504495962\n",
      "RMSE: 0.07155903188948003\n",
      "R-squared: 0.7762252920817441\n",
      "\n",
      "\n",
      "Gradient Boosting\n",
      "MAE: 0.057327227027934524\n",
      "MSE: 0.007528762710918923\n",
      "RMSE: 0.08676844305920743\n",
      "R-squared: 0.6709925777985819\n",
      "\n",
      "\n",
      "Neural Networks\n",
      "MAE: 0.10296011396846022\n",
      "MSE: 0.0180485984910162\n",
      "RMSE: 0.13434507244784305\n",
      "R-squared: 0.21127506711486388\n",
      "\n",
      "\n",
      "Support Vector Machines\n",
      "MAE: 0.0842874580605274\n",
      "MSE: 0.014430266615133509\n",
      "RMSE: 0.12012604469944688\n",
      "R-squared: 0.36939640641897964\n",
      "\n",
      "\n",
      "K-Nearest Neighbors\n",
      "MAE: 0.05352239961862389\n",
      "MSE: 0.00694122886527075\n",
      "RMSE: 0.08331403762434485\n",
      "R-squared: 0.6966678452276438\n",
      "\n",
      "\n"
     ]
    }
   ],
   "source": [
    "# Train and evaluate models\n",
    "for name, model in models:\n",
    "    print(name)\n",
    "    model.fit(X_train, y_train)\n",
    "    y_pred = model.predict(X_test)\n",
    "    print('MAE:', mean_absolute_error(y_test, y_pred))\n",
    "    print('MSE:', mean_squared_error(y_test, y_pred))\n",
    "    print('RMSE:', np.sqrt(mean_squared_error(y_test, y_pred)))\n",
    "    print('R-squared:', r2_score(y_test, y_pred))\n",
    "    print('\\n')"
   ]
  },
  {
   "cell_type": "markdown",
   "id": "542916de-cf0c-4748-8ba2-7361e60ef669",
   "metadata": {},
   "source": [
    "From the above models, R-squared is the highest with Random Forest, so it is best to Utilize Random Forest. Other metrics such as MAE, MSE, and RMSE are also lower with Random Forest in comparison to other models."
   ]
  },
  {
   "cell_type": "code",
   "execution_count": null,
   "id": "da24f63c-14f2-449d-ad64-1f6fff29b6ab",
   "metadata": {},
   "outputs": [],
   "source": []
  }
 ],
 "metadata": {
  "kernelspec": {
   "display_name": "Python 3 (ipykernel)",
   "language": "python",
   "name": "python3"
  },
  "language_info": {
   "codemirror_mode": {
    "name": "ipython",
    "version": 3
   },
   "file_extension": ".py",
   "mimetype": "text/x-python",
   "name": "python",
   "nbconvert_exporter": "python",
   "pygments_lexer": "ipython3",
   "version": "3.9.13"
  }
 },
 "nbformat": 4,
 "nbformat_minor": 5
}
